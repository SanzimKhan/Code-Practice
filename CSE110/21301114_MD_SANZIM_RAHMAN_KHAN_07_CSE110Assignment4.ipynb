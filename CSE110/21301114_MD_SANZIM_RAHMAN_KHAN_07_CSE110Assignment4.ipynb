{
  "nbformat": 4,
  "nbformat_minor": 0,
  "metadata": {
    "kernelspec": {
      "display_name": "Python 3",
      "language": "python",
      "name": "python3"
    },
    "language_info": {
      "codemirror_mode": {
        "name": "ipython",
        "version": 3
      },
      "file_extension": ".py",
      "mimetype": "text/x-python",
      "name": "python",
      "nbconvert_exporter": "python",
      "pygments_lexer": "ipython3",
      "version": "3.7.6"
    },
    "colab": {
      "provenance": []
    }
  },
  "cells": [
    {
      "cell_type": "markdown",
      "metadata": {
        "id": "xDNsncrtU1yM"
      },
      "source": [
        "# CSE110 Lab Assignment 4\n",
        "\n",
        "This Assignment is to help you develop your concept of Lists in Python."
      ]
    },
    {
      "cell_type": "markdown",
      "metadata": {
        "id": "gh4GUDaIU1yO"
      },
      "source": [
        "\n",
        "\n",
        "\n",
        "\n",
        "\n",
        "\n",
        "##Write your name, student ID and CSE110 theory section number below:\n",
        "\n",
        "\n",
        "\n",
        "\n",
        "\n"
      ]
    },
    {
      "cell_type": "code",
      "metadata": {
        "id": "OAYfzLIqgqyE"
      },
      "source": [
        "#STUDENT NAME: MD. SANZIM RAHMAN KHAN \n",
        "#STUDENT ID: 21301114\n",
        "#CSE110 THEORY SECTION: 07"
      ],
      "execution_count": null,
      "outputs": []
    },
    {
      "cell_type": "markdown",
      "metadata": {
        "id": "KD4EKJf6U1yQ"
      },
      "source": [
        "## Write the code in Python to do the following tasks:\n",
        "\n",
        "**<font color='red'>[MUST MAINTAIN VARIABLE NAMING CONVENTIONS FOR ALL THE TASKS]</font>**"
      ]
    },
    {
      "cell_type": "markdown",
      "metadata": {
        "id": "pbdeIVcyU1yi"
      },
      "source": [
        "### Task 1\n",
        "Write a Python program that reads 10 numbers from the user into a list. After reading each number, print all the numbers that have been entered so far in the list. \n",
        "\n",
        "**Example:**\\\n",
        "After the user enters 3, prints “Numbers in the list: [3]”\\\n",
        "After the user enters 5, prints “Numbers in the list: [3, 5]”\\\n",
        "After the user enters 34, prints “Numbers in the list: [3, 5, 34]”\\\n",
        ".... and so on"
      ]
    },
    {
      "cell_type": "code",
      "metadata": {
        "id": "A5df9pmJU1yj",
        "colab": {
          "base_uri": "https://localhost:8080/"
        },
        "outputId": "6abbe673-83f9-4fb9-bb80-abd31f67cde7"
      },
      "source": [
        "\n",
        "num_1 = int(input('Sir, Please enter your first number: '))\n",
        "a_list = []\n",
        "a_list.append(num_1)\n",
        "\n",
        "print('Numbers in the list: ',a_list)\n",
        "\n",
        "for count in range(1,10):\n",
        "    user = int(input('Sir, Please enter your number: '))\n",
        "    a_list.append(user)\n",
        "    print('Numbers in the list:',a_list)\n",
        "\n",
        "\n"
      ],
      "execution_count": null,
      "outputs": [
        {
          "output_type": "stream",
          "text": [
            "Sir, Please enter your first number: 1\n",
            "Numbers in the list:  [1]\n",
            "Sir, Please enter your number: 2\n",
            "Numbers in the list: [1, 2]\n",
            "Sir, Please enter your number: 3\n",
            "Numbers in the list: [1, 2, 3]\n",
            "Sir, Please enter your number: 4\n",
            "Numbers in the list: [1, 2, 3, 4]\n",
            "Sir, Please enter your number: 5\n",
            "Numbers in the list: [1, 2, 3, 4, 5]\n",
            "Sir, Please enter your number: 6\n",
            "Numbers in the list: [1, 2, 3, 4, 5, 6]\n",
            "Sir, Please enter your number: 7\n",
            "Numbers in the list: [1, 2, 3, 4, 5, 6, 7]\n",
            "Sir, Please enter your number: 8\n",
            "Numbers in the list: [1, 2, 3, 4, 5, 6, 7, 8]\n",
            "Sir, Please enter your number: 9\n",
            "Numbers in the list: [1, 2, 3, 4, 5, 6, 7, 8, 9]\n",
            "Sir, Please enter your number: 10\n",
            "Numbers in the list: [1, 2, 3, 4, 5, 6, 7, 8, 9, 10]\n"
          ],
          "name": "stdout"
        }
      ]
    },
    {
      "cell_type": "markdown",
      "metadata": {
        "id": "ZrjtT-I_U1zD"
      },
      "source": [
        "### Task 2\n",
        "\n",
        "Write a Python program that takes a list as an input from the user.Then creates a new list excluding the first and last two elements of the given list and prints the new list. If there are not enough elements in the list to do the task, the print \"Not possible\".\n",
        "\n",
        "**Note:** You may use list slicing.\n",
        "\n",
        "===================================================================\n",
        "\n",
        "**Sample Input 1:**<br/>\n",
        "[10, 20, 24, 25, 26, 35, 70]<br/>\n",
        "**Sample Output 1:**<br/>\n",
        "[24, 25, 26]<br/>\n",
        "\n",
        "===================================================================\n",
        "\n",
        "**Sample Input 2:**<br/>\n",
        "[10, 20, 24, 25, 26]<br/>\n",
        "**Sample Output 2:**<br/>\n",
        "[24]<br/>\n",
        "\n",
        "===================================================================\n",
        "\n",
        "**Sample Input 3:**<br/>\n",
        "[10, 20, 24, 25]<br/>\n",
        "**Sample Output 3:**<br/>\n",
        "[]<br/>\n",
        "\n",
        "===================================================================\n",
        "\n",
        "**Sample Input 4:**<br/>\n",
        "[10, 20, 24]<br/>\n",
        "**Sample Output 4:**<br/>\n",
        "Not possible<br/>\n",
        "\n",
        "==================================================================="
      ]
    },
    {
      "cell_type": "code",
      "metadata": {
        "id": "3r7Ripj7U1zE",
        "colab": {
          "base_uri": "https://localhost:8080/"
        },
        "outputId": "71b6304d-8202-40f7-ca9c-8a1db1bf2bb6"
      },
      "source": [
        "#to do\n",
        "\n",
        "alpha_list = input('Sir, Please enter your list: ')\n",
        "\n",
        "new_alpha_list = alpha_list.split(',')\n",
        "length_var = len(new_alpha_list)\n",
        "\n",
        "if length_var>3:\n",
        "    new_list = new_alpha_list[2:length_var-2]\n",
        "    print(new_list)\n",
        "\n",
        "else:\n",
        "    print('Not possible')\n"
      ],
      "execution_count": null,
      "outputs": [
        {
          "output_type": "stream",
          "text": [
            "Sir, Please enter your list: [10, 20, 24, 25, 26]\n",
            "[' 24']\n"
          ],
          "name": "stdout"
        }
      ]
    },
    {
      "cell_type": "markdown",
      "metadata": {
        "id": "AWgZaBZCzmaM"
      },
      "source": [
        "### Task 3\n",
        "\n",
        "Write a python program that reads 5 numbers from the user into a list, and then prints them in the reverse order.\n",
        "\n",
        "*Hint: You may create a list to store the input numbers and then use loop to print them in reverse order*\n",
        "\n",
        "===================================================================\n",
        "\n",
        "**Sample Input:**\\\n",
        "5\\\n",
        "-5\\\n",
        "100\\\n",
        "1\\\n",
        "0\n",
        "\n",
        "**Sample Output:**\\\n",
        "0\\\n",
        "1\\\n",
        "100\\\n",
        "-5\\\n",
        "5\n",
        "\n",
        "==================================================================="
      ]
    },
    {
      "cell_type": "code",
      "metadata": {
        "id": "ICW-03YOznTp",
        "colab": {
          "base_uri": "https://localhost:8080/"
        },
        "outputId": "09e3a05e-825d-48c8-c899-d34dfeaadb26"
      },
      "source": [
        "#to do\n",
        "\n",
        "alpha_list = []\n",
        "\n",
        "for count in range(0,5):\n",
        "  \n",
        "    beta = int(input('Sir, please enter your number: '))\n",
        "    \n",
        "    alpha_list.append(beta)\n",
        "\n",
        "print()\n",
        "\n",
        "print(alpha_list[-1::-1])\n"
      ],
      "execution_count": null,
      "outputs": [
        {
          "output_type": "stream",
          "text": [
            "Sir, please enter your number: 2\n",
            "Sir, please enter your number: 3\n",
            "Sir, please enter your number: 4\n",
            "Sir, please enter your number: 5\n",
            "Sir, please enter your number: 6\n",
            "\n",
            "[6, 5, 4, 3, 2]\n"
          ],
          "name": "stdout"
        }
      ]
    },
    {
      "cell_type": "markdown",
      "metadata": {
        "id": "7a_1pYjfU1zI"
      },
      "source": [
        "### Task 4\n",
        "Assume, you have been given two lists. [Your program should work for any two given lists; change the following lists and check whether your program works correctly for the code you have written]\n",
        "\n",
        "list_one = [1, 2, 3, 4, 5, 6, 7, 8, 9]\\\n",
        "list_two = [10, 11, 12, -13, -14, -15, -16]\n",
        "\n",
        "Write a Python program that creates a new list with all the **even elements** of both of the given lists and prints the new list.\n",
        "\n",
        "**Hint:** You may create a third list to store the even elements of the given lists.\n",
        "\n",
        "===================================================================\n",
        "\n",
        "**Output for the above lists:** [2, 4, 6, 8, 10, 12, -14, -16]\n",
        "\n",
        "==================================================================="
      ]
    },
    {
      "cell_type": "code",
      "metadata": {
        "id": "vToa7yazU1zI",
        "colab": {
          "base_uri": "https://localhost:8080/"
        },
        "outputId": "4c8c9497-e796-4acc-9e6d-3acc516a3fb6"
      },
      "source": [
        "#to do\n",
        "\n",
        "list_one = [1,2,3,4,5,6,7,8,9]\n",
        "list_two = [10,11,12,-13,-14,-15,-16]\n",
        "\n",
        "blank_list = []\n",
        "\n",
        "for z in range(0,len(list_one)):\n",
        "   if list_one[z]%2 == 0:\n",
        "     blank_list.append(list_one[z])\n",
        "\n",
        "for z in range(0,len(list_two)):\n",
        "   if list_two[z]%2 == 0:\n",
        "     blank_list.append(list_two[z])\n",
        "\n",
        "print(blank_list)\n"
      ],
      "execution_count": null,
      "outputs": [
        {
          "output_type": "stream",
          "text": [
            "[2, 4, 6, 8, 10, 12, -14, -16]\n"
          ],
          "name": "stdout"
        }
      ]
    },
    {
      "cell_type": "markdown",
      "metadata": {
        "id": "QaD4hLn92EKT"
      },
      "source": [
        "### Task 5\n",
        "\n",
        "Write a Python program that takes numbers as input into a list, removes multiple occurences of any number and then finally prints a list **without duplicate values**.\n",
        "\n",
        "*Hint: You may create a third list to store the results. You can use membership operators (in, not in) to make sure no duplicates are added.*\n",
        "\n",
        "===================================================================\n",
        "\n",
        "**Sample Input 1:**<br/>\n",
        "0, 0, 1, 2, 3, 4, 4, 5, 6, 6, 6, 7, 8, 9, 4, 4<br/>\n",
        "\n",
        "\n",
        "**Sample Output 1:**<br/>\n",
        "[0, 1, 2, 3, 4, 5, 6, 7, 8, 9]<br/>\n",
        "\n",
        "===================================================================\n",
        "\n",
        "**Sample Input 2:**<br/>\n",
        "7, 7, 7, 1, 0, 3, 3, 55, 9<br/>\n",
        "\n",
        "\n",
        "**Sample Output 2:**<br/>\n",
        "[7, 1, 0, 3, 55, 9]<br/>\n",
        "\n",
        "==================================================================="
      ]
    },
    {
      "cell_type": "code",
      "metadata": {
        "id": "EUbQbz5hU1zP",
        "colab": {
          "base_uri": "https://localhost:8080/"
        },
        "outputId": "e37e7472-843c-4b04-86b8-3bc55a0079d8"
      },
      "source": [
        "#to do\n",
        "\n",
        "beta_list = []\n",
        "\n",
        "for z in range(9):\n",
        "   alpha_list = int(input(\"Sir, Please enter your desire number: \"))\n",
        "\n",
        "   beta_list.append(alpha_list)\n",
        "\n",
        "z = 0\n",
        "\n",
        "blank_list = []\n",
        "\n",
        "for z in range(9):\n",
        "    if beta_list[z] not in blank_list:\n",
        "       blank_list.append(beta_list[z])\n",
        "    else:\n",
        "      pass\n",
        "\n",
        "print(blank_list)\n",
        "\n"
      ],
      "execution_count": null,
      "outputs": [
        {
          "output_type": "stream",
          "text": [
            "Sir, Please enter your desire number: 7\n",
            "Sir, Please enter your desire number: 7\n",
            "Sir, Please enter your desire number: 7\n",
            "Sir, Please enter your desire number: 1\n",
            "Sir, Please enter your desire number: 0\n",
            "Sir, Please enter your desire number: 3\n",
            "Sir, Please enter your desire number: 3\n",
            "Sir, Please enter your desire number: 55\n",
            "Sir, Please enter your desire number: 9\n",
            "[7, 1, 0, 3, 55, 9]\n"
          ],
          "name": "stdout"
        }
      ]
    },
    {
      "cell_type": "markdown",
      "metadata": {
        "id": "wfcSytFVU1zU"
      },
      "source": [
        "### Task 6\n",
        "\n",
        "Write a Python program that reads 5 numbers into a list and prints the largest number and its location or index position on the list. <font color='red'>[You are not allowed to use the max(), sort(), sorted() function here]</font>\n",
        "\n",
        "**Hint:** Assume the first input to be the largest value initially and the largest value’s location to be 0.\n",
        "\n",
        "**Note:** You may need to be careful while printing the output. Depending on your code, you might need data conversion.\n",
        "\n",
        "===================================================================\n",
        "\n",
        "**Sample Input:**\\\n",
        " 7, 13, 2, 10, 6\n",
        "\n",
        "**Sample Output:**\\\n",
        "My list: [7, 13, 2, 10, 6]\\\n",
        "Largest number in the list is 13 which was found at index 1.\n",
        "\n",
        "==================================================================="
      ]
    },
    {
      "cell_type": "code",
      "metadata": {
        "id": "kXbEh1t3U1zV",
        "colab": {
          "base_uri": "https://localhost:8080/"
        },
        "outputId": "3c7bf6c6-b5a4-4b8a-b791-3625c3af0086"
      },
      "source": [
        "#to do\n",
        "\n",
        "beta_list = []\n",
        "\n",
        "for count in range(0,5):\n",
        "    dorime = int(input('Sir, Please enter your desire number: '))\n",
        "    beta_list.append(dorime)\n",
        "\n",
        "tango = beta_list[0]\n",
        "\n",
        "demand = 0\n",
        "\n",
        "for z in range(1,len(beta_list)):\n",
        "\n",
        "   if beta_list[z]>tango:\n",
        "      tango = beta_list[z]\n",
        "      demand = z\n",
        "   else:\n",
        "      pass\n",
        "\n",
        "print('My list is:',beta_list)\n",
        "print('Largest number in the list is',tango,'which was found at index',demand)\n"
      ],
      "execution_count": null,
      "outputs": [
        {
          "output_type": "stream",
          "text": [
            "Sir, Please enter your desire number: 7\n",
            "Sir, Please enter your desire number: 13\n",
            "Sir, Please enter your desire number: 2\n",
            "Sir, Please enter your desire number: 10\n",
            "Sir, Please enter your desire number: 6\n",
            "My list is: [7, 13, 2, 10, 6]\n",
            "Largest number in the list is 13 which was found at index 1\n"
          ],
          "name": "stdout"
        }
      ]
    },
    {
      "cell_type": "markdown",
      "metadata": {
        "id": "nwRZ3_0tC3fq"
      },
      "source": [
        "### Task 7\n",
        "\n",
        "\n",
        "Assume, you have been given two lists. [Your program should work for any two given lists; make changes to the lists below and check whether your program works correctly]\n",
        "\n",
        "list_one = [1, 2 , 2, 4, 5, 5, 7, 99, 200, 303, 70]\\\n",
        "list_two = [1, 1, 2, 3, 3, 3, 4, 5, 200, 500, -5]\n",
        "\n",
        "Write a Python program that creates a new list with all the **unique elements** of both the given lists. \n",
        "<font color='red'> **You need to make sure that there are no duplicates in the resulting list.**</font> Finally, print the updated list.\n",
        "\n",
        "**Hint:** You may create a third list to store the results. You can use membership operators (in, not in) to make sure no duplicates are added.\n",
        "\n",
        "===================================================================\n",
        "\n",
        "**Output for the above two lists**: \n",
        "[1, 2, 4, 5, 7, 99, 200, 303, 70, 3, 500, -5]\n",
        "\n",
        "===================================================================\n",
        "\n"
      ]
    },
    {
      "cell_type": "code",
      "metadata": {
        "id": "LEnaTlyoMJdS",
        "colab": {
          "base_uri": "https://localhost:8080/"
        },
        "outputId": "2b82df49-7bb8-4c18-e7eb-9dc10c913eff"
      },
      "source": [
        "#to do\n",
        "\n",
        "alpha_list_one = [1, 2 , 2, 4, 5, 5, 7, 99, 200, 303, 70]\n",
        "alpha_list_two = [1, 1, 2, 3, 3, 3, 4, 5, 200, 500, -5]\n",
        "\n",
        "unite_list = alpha_list_one + alpha_list_two\n",
        "\n",
        "print()\n",
        "\n",
        "blank_list = []\n",
        "\n",
        "for z in range(0,len(unite_list)):\n",
        "   if unite_list[z] not in blank_list:\n",
        "      blank_list.append(unite_list[z])\n",
        "\n",
        "\n",
        "print('Sir, The output of the above two lists:',blank_list)"
      ],
      "execution_count": null,
      "outputs": [
        {
          "output_type": "stream",
          "text": [
            "\n",
            "Sir, The output of the above two lists: [1, 2, 4, 5, 7, 99, 200, 303, 70, 3, 500, -5]\n"
          ],
          "name": "stdout"
        }
      ]
    },
    {
      "cell_type": "markdown",
      "metadata": {
        "id": "bvF30RQlemBW"
      },
      "source": [
        "### Task 8\n",
        "\n",
        "Write a Python program that takes two lists and prints True if they have at least one common member.\n",
        "\n",
        "===================================================================\n",
        "\n",
        "**Sample Input 1:**\\\n",
        "List_one : [1, 4, 3, 2, 6]\\\n",
        "List_two : [5, 6, 9, 8, 7]\n",
        "\n",
        "**Sample Output 1:**\\\n",
        "True\n",
        "\n",
        "===================================================================\n",
        "\n",
        "**Sample Input 2:**\\\n",
        "List_one : [1, 4, 3, 2, 5]\\\n",
        "List_two : [8, 7, 6, 9]\n",
        "\n",
        "**Sample Output 2:**\\\n",
        "False\n",
        "\n",
        "===================================================================\n"
      ]
    },
    {
      "cell_type": "code",
      "metadata": {
        "id": "yIlAlqlGe7IA",
        "colab": {
          "base_uri": "https://localhost:8080/"
        },
        "outputId": "422a13f2-589a-416c-bb6b-d9fa53e8e322"
      },
      "source": [
        "\n",
        "bingo_list_one = [1, 4, 3, 2, 5]\n",
        "bingo_list_two = [8, 7, 6, 9]\n",
        "\n",
        "lenght_of_list_one = len(bingo_list_one)\n",
        "\n",
        "for z in range(lenght_of_list_one):\n",
        "  \n",
        "   if bingo_list_one[z] in bingo_list_two:\n",
        "      print(\"True\")\n",
        "      break\n",
        "      \n",
        "   else:\n",
        "      pass\n",
        " \n",
        "if z == lenght_of_list_one-1:\n",
        "    print(\"False\")  \n",
        "\n",
        "\n"
      ],
      "execution_count": null,
      "outputs": [
        {
          "output_type": "stream",
          "text": [
            "False\n"
          ],
          "name": "stdout"
        }
      ]
    },
    {
      "cell_type": "markdown",
      "metadata": {
        "id": "vyFt-Ra5erR4"
      },
      "source": [
        "### Task 9\n",
        "\n",
        "Write a Python program that reads 10 numbers into a list and prints the numbers of that specified list after removing **even numbers** from it.\n",
        "\n",
        "=========================================================================\n",
        "\n",
        "**Sample Input:**\n",
        "\n",
        "7,12,4,55,96,2,11,61,33,42\n",
        "\n",
        "**Sample Output:**\n",
        "\n",
        "[7, 55, 11, 61, 33]\n",
        "\n",
        "=========================================================================\n",
        "\n",
        "\n",
        "\n"
      ]
    },
    {
      "cell_type": "code",
      "metadata": {
        "id": "1U3bswq9e9B3",
        "colab": {
          "base_uri": "https://localhost:8080/"
        },
        "outputId": "8ba44b48-7e4e-47c8-e73a-0444793136d8"
      },
      "source": [
        "#to do\n",
        "\n",
        "bingo_list = []\n",
        "\n",
        "for count in range(0,10):\n",
        "    alpha = int(input(\"Sir, Please enter your desire number: \"))\n",
        "    bingo_list.append(alpha)\n",
        "\n",
        "blank_list = []\n",
        "\n",
        "length_of_bingo_list = len(bingo_list)\n",
        "\n",
        "for z in range(0,length_of_bingo_list):\n",
        "    if bingo_list[z]%2!=0:\n",
        "      blank_list.append(bingo_list[z])\n",
        "    else:\n",
        "      pass\n",
        "\n",
        "\n",
        "print()\n",
        "print(blank_list)"
      ],
      "execution_count": null,
      "outputs": [
        {
          "output_type": "stream",
          "text": [
            "Sir, Please enter your desire number: 7\n",
            "Sir, Please enter your desire number: 12\n",
            "Sir, Please enter your desire number: 4\n",
            "Sir, Please enter your desire number: 55\n",
            "Sir, Please enter your desire number: 96\n",
            "Sir, Please enter your desire number: 2\n",
            "Sir, Please enter your desire number: 11\n",
            "Sir, Please enter your desire number: 61\n",
            "Sir, Please enter your desire number: 33\n",
            "Sir, Please enter your desire number: 42\n",
            "\n",
            "[7, 55, 11, 61, 33]\n"
          ],
          "name": "stdout"
        }
      ]
    },
    {
      "cell_type": "markdown",
      "metadata": {
        "id": "G9jPuLWOetqd"
      },
      "source": [
        "### Task 10\n",
        "\n",
        "Write a Python program that removes all Empty strings from a given list and print the new list.\n",
        "\n",
        "=========================================================================\n",
        "\n",
        "**Sample Input:**\n",
        "\n",
        "[\"hey\", \"there\", \" \", \"what's\", \" \", \"up\", \" \", \"?\"]\n",
        "\n",
        "**Sample Output:**\n",
        "\n",
        "Original List:\n",
        "[\"hey\", \"there\", \" \", \"what's\", \" \", \"up\", \" \", \"?\"]\n",
        "\n",
        "Modified List:\n",
        "[\"hey\", \"there\", \"what's\", \"up\", \"?\"]\n",
        "\n",
        "==========================================================================\n",
        "\n",
        "\n"
      ]
    },
    {
      "cell_type": "code",
      "metadata": {
        "id": "OlrhifBge-TA",
        "colab": {
          "base_uri": "https://localhost:8080/"
        },
        "outputId": "26a7f93b-fe63-4d62-a904-f02bf1e8258a"
      },
      "source": [
        "#to do\n",
        "\n",
        "given_list = [\"hey\", \"there\", \" \", \"what's\", \" \", \"up\", \" \", \"?\"]\n",
        "\n",
        "blank_list = []\n",
        "\n",
        "length_of_given_list = len(given_list) \n",
        "\n",
        "for z in range(0,length_of_given_list):\n",
        " if \" \" not in given_list[z]:\n",
        "      blank_list.append(given_list[z])\n",
        "\n",
        "print(\"Sir, your original list is: \",given_list)\n",
        "print(\"Sir, your modified list is: \",blank_list)"
      ],
      "execution_count": null,
      "outputs": [
        {
          "output_type": "stream",
          "text": [
            "Sir, your original list is:  ['hey', 'there', ' ', \"what's\", ' ', 'up', ' ', '?']\n",
            "Sir, your modified list is:  ['hey', 'there', \"what's\", 'up', '?']\n"
          ],
          "name": "stdout"
        }
      ]
    },
    {
      "cell_type": "markdown",
      "metadata": {
        "id": "UjTy79X6ewce"
      },
      "source": [
        "## Task 11\n",
        "\n",
        "Write a Python program that replaces the last element of first list with second list.\n",
        "\n",
        "===================================================================\n",
        "\n",
        "**Sample Input 1:**\\\n",
        "List_one : [1, 4, 7, 5]\\\n",
        "List_two : [6, 1, 3, 9]\n",
        "\n",
        "**Sample Output 1:**\\\n",
        "[1, 4, 7, 6, 1, 3, 9]\n",
        "\n",
        "===================================================================\n",
        "\n",
        "**Sample Input 2:**\\\n",
        "List_one : [1, 3, 5, 7, 9, 10]\\\n",
        "List_two : [2, 4, 6, 8]\n",
        "\n",
        "**Sample Output 2:**\\\n",
        "[1, 3, 5, 7, 9, 2, 4, 6, 8]\n",
        "\n",
        "===================================================================\n",
        "\n",
        "\n",
        "\n"
      ]
    },
    {
      "cell_type": "code",
      "metadata": {
        "id": "bBseKJuse_bX",
        "colab": {
          "base_uri": "https://localhost:8080/"
        },
        "outputId": "70e1695f-eb83-409b-b71b-64af6dba2c00"
      },
      "source": [
        "#to do\n",
        "\n",
        "alpha_list_one = [1, 4, 7, 5]\n",
        "alpha_list_two = [6, 1, 3, 9]\n",
        "\n",
        "bingo_list = alpha_list_one[:-1] + alpha_list_two\n",
        "\n",
        "\n",
        "print(bingo_list)\n"
      ],
      "execution_count": null,
      "outputs": [
        {
          "output_type": "stream",
          "text": [
            "[1, 4, 7, 6, 1, 3, 9]\n"
          ],
          "name": "stdout"
        }
      ]
    },
    {
      "cell_type": "markdown",
      "metadata": {
        "id": "4pBLPmvre0jv"
      },
      "source": [
        "### Task 12\n",
        "\n",
        "Write a Python program that turns every item of a list into its square.\n",
        "\n",
        "===================================================================\n",
        "\n",
        "**Sample Input 1:**\\\n",
        "[1, 2, 3, 4, 5, 6, 7]\n",
        "\n",
        "**Sample Output 1:**\\\n",
        "[1, 4, 9, 16, 25, 36, 49]\n",
        "\n",
        "===================================================================\n",
        "\n",
        "**Sample Input 2:**\\\n",
        "[3, 5, 1, 6]\n",
        "\n",
        "**Sample Output 2:**\\\n",
        "[9, 25, 1, 36]\n",
        "\n",
        "\n",
        "===================================================================\n",
        "\n",
        "\n",
        "\n",
        "\n",
        "\n"
      ]
    },
    {
      "cell_type": "code",
      "metadata": {
        "id": "5NDg0odDfANt",
        "colab": {
          "base_uri": "https://localhost:8080/"
        },
        "outputId": "a71f3485-cf3e-4772-d13b-b600879eb098"
      },
      "source": [
        "#to do\n",
        "\n",
        "alpha_list =  [1, 2, 3, 4, 5, 6, 7]\n",
        "\n",
        "\n",
        "blank_list =  [alpha_list**2 for alpha_list in alpha_list]\n",
        "print(blank_list)\n"
      ],
      "execution_count": null,
      "outputs": [
        {
          "output_type": "stream",
          "text": [
            "[1, 4, 9, 16, 25, 36, 49]\n"
          ],
          "name": "stdout"
        }
      ]
    },
    {
      "cell_type": "markdown",
      "metadata": {
        "id": "WZXnxHTdGrMC"
      },
      "source": [
        "## Optional Tasks (13-15) [Ungraded]"
      ]
    },
    {
      "cell_type": "markdown",
      "metadata": {
        "id": "lvSiLaobU1zY"
      },
      "source": [
        "### Task 13\n",
        "\n",
        "Write a Python program that reads 5 numbers into a list and prints the smallest and largest number and their locations in the list. <font color='red'>[You are not allowed to use the max(), min(), sort(), sorted() functions here]</font>\n",
        "\n",
        "**Hint:** You may assume the first input to be the largest value initially and the largest value’s location to be 0. Similarly, you can assume the first input to be the smallest value initially and the smallest value’s location to be 0. \n",
        "\n",
        "**Note:** You may need to be careful while printing the output. Depending on your code, you might need data conversion.\n",
        "\n",
        "===================================================================\n",
        "\n",
        "**Sample Input:**\\\n",
        "7, 13, -5, 10, 6\n",
        "\n",
        "**Sample Output:**\\\n",
        "My list: [7, 13, -5, 10, 6]\\\n",
        "Smallest number in the list is -5 which was found at index 2\\\n",
        "Largest number in the list is 13 which was found at index 1\n",
        "\n",
        "==================================================================="
      ]
    },
    {
      "cell_type": "code",
      "metadata": {
        "id": "yiS5TWSDU1zY"
      },
      "source": [
        "#to do"
      ],
      "execution_count": null,
      "outputs": []
    },
    {
      "cell_type": "markdown",
      "metadata": {
        "id": "rguDZ8SBCHD8"
      },
      "source": [
        "### Task 14\n",
        "Write a Python program that takes two lists as an input from the user. Then print a new list with the **common elements** of both the input lists. \n",
        "\n",
        "*Hint: You may need to create a third list to store the results. You can use membership operators (in, not in) to make sure similar elements are added.*\n",
        "\n",
        "===================================================================\n",
        "\n",
        "**Sample Input 1:**<br/>\n",
        "A, B, C, D\n",
        "\n",
        "\n",
        "C, E , F, B\n",
        "\n",
        "\n",
        "**Sample Output 1:**<br/>\n",
        "['C', 'B']\n",
        "\n",
        "===================================================================\n",
        "\n",
        "**Sample Input 2:**<br/>\n",
        "1, 3, A, H, P\n",
        "\n",
        "\n",
        "A, G, 1, P, O\n",
        "\n",
        "\n",
        "**Sample Output 2:**<br/>\n",
        "['1', 'A', 'P']\n",
        "\n",
        "===================================================================\n"
      ]
    },
    {
      "cell_type": "code",
      "metadata": {
        "id": "3iueGiPPGG66"
      },
      "source": [
        "# to do\n"
      ],
      "execution_count": null,
      "outputs": []
    },
    {
      "cell_type": "markdown",
      "metadata": {
        "id": "tjcE5oitCM2s"
      },
      "source": [
        "### Task 15\n",
        "\n",
        "\n",
        "Write a Python program that reads 5 numbers into a list and prints the second largest number and its location or index position on the list. <font color='red'>[You are not allowed to use the max(), sort(), sorted() function here]</font>\n",
        "\n",
        "===================================================================\n",
        "\n",
        "**Sample Input:**\\\n",
        " 7, 13, 2, 10, 6\n",
        "\n",
        "**Sample Output:**\\\n",
        "My list: [7, 13, 2, 10, 6]\\\n",
        "Second largest number in the list is 10 which was found at index 3.\n",
        "\n",
        "==================================================================="
      ]
    },
    {
      "cell_type": "code",
      "metadata": {
        "id": "b2TwkUqnGZU-"
      },
      "source": [
        "# to do\n"
      ],
      "execution_count": null,
      "outputs": []
    }
  ]
}