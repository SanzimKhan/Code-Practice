#TASK_1_A

counter = 24

while counter >= -6:
    
    #inside loop body
    if counter == -6:
        print(counter, end = "") 
    else:
        print(counter, end = ", ") 
     
    counter = counter - 6 #updating loop counter
    #inside loop body
    
#outside loop body


#TASK_1_B

counter = -10

while counter<= 20:
    if counter == 20:
        print(counter)
        break
    print(counter,end = ',')
    counter = counter + 5


#TASK_3_C

counter = 18

while counter<=63:
    if counter == 63:
        print(counter)
        break
    elif counter%2 == 0:
        print(counter, end = ',')
    else:
        print(counter,end = ',')
    counter = counter+9


#TASK_4_D

counter = 18

while counter<=63:
    if counter == 63:
        print(counter*-1)
        break
    elif counter%2 == 0:
        print(counter, end = ',')
    else:
        print(counter*-1,end = ',')
    counter = counter+9


#TASK_2

Wheels = input("Sir, please enter the name of a car: ")

counter = int(input("Please enter a number: "))

for i in range(0, counter):
    print(Wheels)


#TASK_3

counter = 0
sum = 0

while counter<=600:
     if counter%7 == 0 and counter%9 == 0:
        sum = sum+counter
     counter = counter+1

print('The final summation is:',sum)

#TASK_4

sum = 0
Number = 0

while (Number<= 600):
     if Number%9 == 0 or Number%7 == 0:
          sum += Number
          Number += 1

     elif Number%7 == 0 or Number%9 == 0:
          sum += Number
          Number += 1
     else:
          Number += 1
print(sum)

#TASK_5

sum = 0
Number = 0

while (Number<= 600):
     if Number%9 == 0 and Number%7 != 0:
         sum += Number
         Number += 1
     elif Number%7 == 0 and Number%9 != 0:
         sum += Number
         Number += 1
     else:
         Number += 1

print(sum)

#TASK_6

start = 10


while start<=50:
     if start%2 != 0:
         print(start,end = ' ')
     start = start+1

#TASK_7

odd = 0
even = 0
n= int(input("Sir, please enter your desired range: "))

for index in range(1,n+1):
    if index%2 != 0:
        odd = odd+index**2
    else:
        even = even+index**2

final = odd-even
print('The final answer is:',final)

#TASK_8

total = 0
odd = 0
for i in range(0, 10):
  number = int(input("Sir,please enter the number: "))

  if number%2 == 1:
    total += number
    odd+=1


average = total/odd

print("Total is ", total, "and Average is ", average)


#TASK_9

N = int(input("Please, enter a number: "))
sum = 0

for N in range(1,N+1):
   if N%7==0:
      sum=sum+N

print(sum)


#TASK_10

sum = 0
for i in range(0, 10):
    number = int(input("Please, enter your number: "))

    sum += number
    print(sum)

#TASK_11

n = input("Enter a number: ")

number = int(n)

while(number>0):
     digit = number % 10
     number = number//10
     if number == 0:
       print(digit)
     else:
      print(digit,end = ',')

#TASK_12

Number = int(input("Please enter your number: "))
Count = 0
while (Number > 0):
     Number = Number // 10
     Count = Count + 1

print("The Number of digits ",Count)

#TASK_13

number = int(input("Sir,please enter your number: "))
count=0
store_num=number
while number>0:
  number=number//10
  count=count+1
number=10**(count-1)
while store_num>0:
  result = store_num//number
  if number ==1:
    print(result)
  else:
    print(result,end=',')
  store_num =store_num%number
  number=number//10

#TASK_14

number = int(input("Please, enter your number: "))
divisor = 1
counting_machine = 0
while divisor <= number:
  if number%divisor == 0:
        counting_machine = counting_machine+1
        print('The divisor is: ', divisor)
  divisor = divisor+1

print("Total number of divisor is: ", counting_machine)

#TASK_15

Number = int(input("Sir, Please enter a number: "))
Sum = 0
for i in range(1, Number):
    if (Number % i == 0):
        Sum = Sum + i
if Sum == Number:
    print(Number, "is a perfect Number")
else:
    print(Number, "is not a perfect Number")

#TASK_16

number = int(input("Enter a number: "))
if number > 1:

   for i in range(2,int(number/2)+1):

     if (number % i) == 0:
       print(number,"is not a prime number")
       break
   else:
       print(number, "is a prime number")
else:
       print(number,"is a prime number")

#TASK_17

n = int(input("Please, enter your digit: "))
total = 0
minimum = 0
maximum = 0

for i in range(0, n):
  number = int(input("Please, enter your number: "))
  if i == 0:
    maximum = number
    minimum = number
    total = number
  else:
    if number < minimum:
      minimum = number
    elif number> maximum:
      maximum = number

    total += number
average = total/n


print('the maximum is:', maximum)
print('the minimum is:', minimum)
print('the average is:', average)

#TASK_18

N = int(input("Please, enter your number  : "))

for outer in range(1,N+1):
   for inner in range(1,N+1):
        print('+', end = '')

   print()

#TASK_19

M = int(input("Sir, Please enter your number: "))
N = int(input("Sir, Please enter your number: "))


for outer in range(0,M):
  count = 1
  for inner in range(0,N):
    print(count,end = "")
    count += 1
  print()

#TASK_20

N = int(input("Sir please enter your first number: "))


for i in range(1,N+1):
  count = 1

  for i in range(1,i+1):

    print(count,end ="")
    count += 1
  print()
